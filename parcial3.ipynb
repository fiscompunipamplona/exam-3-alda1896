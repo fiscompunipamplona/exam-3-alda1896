{
 "cells": [
  {
   "cell_type": "markdown",
   "metadata": {},
   "source": [
    "**Fuerza de Magnus**\n",
    "\n",
    "\\begin{equation}\n",
    "\\frac{\\vec{F}}{m}=g-C_{d}\\left | \\vec{v} \\right |\\vec{v}+C_{m} \\vec{\\omega}\\times\\vec{v}\n",
    "\\end{equation}\n",
    "\n",
    "**Condiciones iniciales**\n",
    "\n",
    "\\begin{equation}\n",
    "z_{0}=1.8 [m]\\\\\n",
    "x_{0}=18 [m]\\\\\n",
    "v_{0}=40 [m/s]\n",
    "\\end{equation}\n",
    "\n",
    " **a) Encontrar el angulo θ tal que en x=0 y= 1.5; para Cd=Cm=0.**\n",
    " \n",
    "Podemos encontrar el valor analítico de θ  para que se cumpla esta condición usando las ecuaciones de tiro parabólico:\n",
    " \n",
    "\\begin{equation}\n",
    "x=x_{0}+v_{0x}t \\\\\n",
    "z=z_{0}+v_{0z}t-\\frac{1}{2}gt^{2}\n",
    "\\end{equation}\n",
    "\n",
    "\\begin{equation}\n",
    "0=18-40cos\\left ( \\theta  \\right )t \\\\\n",
    "t=\\frac{18}{40cos\\left ( \\theta  \\right )} \\\\\n",
    "\\end{equation}\n",
    "\n",
    "\\begin{equation}\n",
    "1.5=1.8+40sen\\left ( \\theta  \\right )\\left ( \\frac{18}{40cos(\\theta )} \\right )-\\frac{1}{2}(9.8)\\left ( \\frac{18}{40cos(\\theta )} \\right )^{2}\\\\\n",
    "\\end{equation}\n",
    "\n",
    "\\begin{equation}\n",
    "0.3=18tan(\\theta )-0.99225sec^{2}(\\theta ) \\\\\n",
    "\\end{equation}\n",
    "\n",
    "\\begin{equation}\n",
    "0.99225tan^{2}(\\theta)-18tan(\\theta)+0.69225\\\\\n",
    "\\end{equation}\n",
    "\n",
    "\\begin{equation}\n",
    "tan(\\theta)=0.0385\\Rightarrow \\theta=2.2^{o}\n",
    "\\end{equation}"
   ]
  },
  {
   "cell_type": "code",
   "execution_count": 1,
   "metadata": {},
   "outputs": [],
   "source": [
    "from math import sin,cos, pi, sqrt\n",
    "from numpy import arange\n",
    "from pylab import plot,xlabel,ylabel,show,xlim,ylim,legend,grid"
   ]
  },
  {
   "cell_type": "code",
   "execution_count": 2,
   "metadata": {},
   "outputs": [],
   "source": [
    "def ace(x,t):\n",
    "    m=1490 #g\n",
    "    g=9.8 #m/s\n",
    "    return -g"
   ]
  },
  {
   "cell_type": "code",
   "execution_count": 3,
   "metadata": {},
   "outputs": [],
   "source": [
    "#Runge-kutta\n",
    "\n",
    "ti = 0.0    #inicio del intervalo\n",
    "tf = 1.0   #final del intervalo\n",
    "N = 300  # numero de pasos\n",
    "h = (tf-ti)/N # tamaño de un paso\n",
    "\n",
    "V= []\n",
    "X= []\n",
    "Z= []\n",
    "Vx=[]\n",
    "Vz=[]\n",
    "\n",
    "tpoints = arange(ti,tf,h)\n",
    "\n",
    "the=(2.2*pi)/180 #ángulo inicial\n",
    "V0=40 #m/s       #magnitud de la velocidad inicial\n",
    "vx=-V0*cos(the)  #velocidad inicial en x\n",
    "vz=V0*sin(the)   #velocidad inicial en z\n",
    "z=1.8 #m         #altura inicial en z\n",
    "x=18  #m         # distancia inicial en x\n",
    "\n",
    "for t in tpoints:\n",
    "    v =sqrt(vx*vx+vz*vz)\n",
    "    V.append(v)\n",
    "    Vz.append(vz)\n",
    "    Vx.append(vx)\n",
    "    Z.append(z)\n",
    "    X.append(x)\n",
    "    \n",
    "    k1v =h*ace(x,t)\n",
    "    k2v =h*ace(x+0.5*h,t+0.5*k1v)\n",
    "    k3v =h*ace(x+0.5*h,t+0.5*k2v)\n",
    "    k4v =h*ace(x+h,t+k3v)\n",
    "    vz +=(1/6)*(k1v+2*k2v+2*k3v+k4v)\n",
    "    \n",
    "    z +=h*vz\n",
    "    x +=h*vx"
   ]
  },
  {
   "cell_type": "code",
   "execution_count": 4,
   "metadata": {},
   "outputs": [
    {
     "data": {
      "image/png": "[encoded data removed]",
      "text/plain": [
       "<Figure size 432x288 with 1 Axes>"
      ]
     },
     "metadata": {
      "needs_background": "light"
     },
     "output_type": "display_data"
    }
   ],
   "source": [
    "plot (X,Z, label='z vs x')\n",
    "plot (0, 1.5, 'o')\n",
    "plot (18, 1.8, 'o')\n",
    "legend()\n",
    "xlabel(\"x[m]\")\n",
    "ylabel(\"z[m]\")\n",
    "xlim(-1,20)\n",
    "ylim(0,2)\n",
    "grid()\n",
    "show()"
   ]
  },
  {
   "cell_type": "markdown",
   "metadata": {},
   "source": [
    "**b) Ahora vamos a tomar en cuenta la resistencia opuesta por el aire, por lo tanto la ecuación para la acerelaracion queda modificada como:**\n",
    "\n",
    "\\begin{equation}\n",
    "\\vec{a}=-g\\hat{z}-c_{d}\\left |\\vec{v}  \\right |v_{x}\\hat{x} \n",
    "\\end{equation}\n",
    "\n",
    "**Si suponemos que solo existe resistencia en la direccion x**"
   ]
  },
  {
   "cell_type": "code",
   "execution_count": 5,
   "metadata": {},
   "outputs": [],
   "source": [
    "Cd=6e-3\n",
    "m=0.1490 #kg\n",
    "g=9.8 #m/s\n",
    "cm=1e-3\n",
    "def acex(vx,t):\n",
    "    return -Cd*v*vx\n",
    "\n",
    "def acez(vz,t):\n",
    "    return -g"
   ]
  },
  {
   "cell_type": "code",
   "execution_count": 6,
   "metadata": {},
   "outputs": [],
   "source": [
    "the=(2.2*pi)/180 #ángulo inicial\n",
    "V0=40 #m/s       #magnitud de la velocidad inicial\n",
    "vx=-V0*cos(the)  #velocidad inicial en x\n",
    "vz=V0*sin(the)   #velocidad inicial en z\n",
    "z=1.8 #m         #altura inicial en z\n",
    "x=18  #m         # distancia inicial en x\n",
    "\n",
    "V2=[]\n",
    "V2z=[]\n",
    "V2x=[]\n",
    "Z2=[]\n",
    "X2=[]\n",
    "\n",
    "for t in tpoints:\n",
    "    v =sqrt(vx*vx+vz*vz)\n",
    "    V2.append(v)\n",
    "    V2z.append(vz)\n",
    "    V2x.append(vx)\n",
    "    Z2.append(z)\n",
    "    X2.append(x)\n",
    "    \n",
    "    k1vx =h*acex(vx,t)\n",
    "    k2vx =h*acex(vx+0.5*h,t+0.5*k1vx)\n",
    "    k3vx =h*acex(vx+0.5*h,t+0.5*k2vx)\n",
    "    k4vx =h*acex(vx+h,t+k3vx)\n",
    "    vx +=(1/6)*(k1vx+2*k2vx+2*k3vx+k4vx)\n",
    "      \n",
    "    k1vz =h*acez(vz,t)\n",
    "    k2vz =h*acez(vz+0.5*h,t+0.5*k1vz)\n",
    "    k3vz =h*acez(vz+0.5*h,t+0.5*k2vz)\n",
    "    k4vz =h*acez(vz+h,t+k3vz)\n",
    "    vz +=(1/6)*(k1vz+2*k2vz+2*k3vz+k4vz)\n",
    "\n",
    "    \n",
    "    z +=h*vz\n",
    "    x +=h*vx"
   ]
  },
  {
   "cell_type": "code",
   "execution_count": 7,
   "metadata": {},
   "outputs": [
    {
     "data": {
      "image/png": "[encoded data removed]",
      "text/plain": [
       "<Figure size 432x288 with 1 Axes>"
      ]
     },
     "metadata": {
      "needs_background": "light"
     },
     "output_type": "display_data"
    }
   ],
   "source": [
    "plot (X2,Z2, label='Con resistencia')\n",
    "plot (X,Z,label='sin resistencia')\n",
    "legend()\n",
    "xlabel(\"x[m]\")\n",
    "ylabel(\"z[m]\")\n",
    "grid()\n",
    "show()"
   ]
  },
  {
   "cell_type": "markdown",
   "metadata": {},
   "source": [
    "**Se evidencia que la trayectoria descrita teniendo en cuenta la resistencia del aire tiene un alcanze menor y por lo tanto no logra llegar al punto (x=0,z=1.5)**"
   ]
  },
  {
   "cell_type": "markdown",
   "metadata": {},
   "source": [
    "**Para el tercer caso debemos tener en cuenta el efecto Magnus, suponiendo que el vector velocida angular tiene direccion primero en Y positiva y luego en Y negativa, entonces la ecuacion para la aceleracion es:**\n",
    "\n",
    "\\begin{equation}\n",
    "\\vec{a}=-g\\hat{z}-c_{d}\\left |\\vec{v}  \\right |v_{x}\\hat{x} +c_{m}\\omega\\hat{y} \\times \\left ( v_{x}\\hat{x}+v_{z}\\hat{z} \\right )\n",
    "\\end{equation}\n",
    "\n",
    "\n",
    "**Para w en Y**\n",
    "\\begin{equation}\n",
    "a_{x}=-c_{d}\\left |\\vec{v}  \\right |v_{x}+c_{m}\\omega v_{z}\n",
    "\\end{equation}\n",
    "\n",
    "\n",
    "\\begin{equation}\n",
    "a_{z}=-g-c_{m}\\omega v_{x}\n",
    "\\end{equation}\n",
    "\n",
    "**Para w en -Y**\n",
    "\n",
    "\\begin{equation}\n",
    "a_{x}=-c_{d}\\left |\\vec{v}  \\right |v_{x}-c_{m}\\omega v_{z}\n",
    "\\end{equation}\n",
    "\n",
    "\n",
    "\\begin{equation}\n",
    "a_{z}=-g+c_{m}\\omega v_{x}\n",
    "\\end{equation}\n",
    "\n"
   ]
  },
  {
   "cell_type": "code",
   "execution_count": 28,
   "metadata": {},
   "outputs": [],
   "source": [
    "#caso3\n",
    "w=200 #rad/s\n",
    "Cd=6e-3\n",
    "m=0.1490 #kg\n",
    "g=9.8 #m/s\n",
    "cm=4e-4\n",
    "\n",
    "#aceleraión para w en direccion Y positiva\n",
    "def acexx(vx,vz,t):\n",
    "    return -Cd*v*vx+cm*w*vz\n",
    "\n",
    "def acezz(vz,vx,t):\n",
    "    return -g-m*w*vx\n",
    "\n",
    "#aceleraión para w en direccion Y negativa\n",
    "\n",
    "def Acexx(vx,vz,t):\n",
    "    return -Cd*v*vx-cm*w*vz\n",
    "\n",
    "def Acezz(vz,vx,t):\n",
    "    return -g+m*w*vx   "
   ]
  },
  {
   "cell_type": "code",
   "execution_count": 29,
   "metadata": {},
   "outputs": [],
   "source": [
    "the=(2.2*pi)/180 #ángulo inicial\n",
    "V0=40 #m/s       #magnitud de la velocidad inicial\n",
    "vx=-V0*cos(the)  #velocidad inicial en x\n",
    "vz=V0*sin(the)   #velocidad inicial en z\n",
    "z=1.8 #m         #altura inicial en z\n",
    "x=18  #m         # distancia inicial en x\n",
    "\n",
    "V3=[]\n",
    "V3z=[]\n",
    "V3x=[]\n",
    "Z3=[]\n",
    "X3=[]\n",
    "\n",
    "for t in tpoints:\n",
    "    v =sqrt(vx*vx+vz*vz)\n",
    "    V3.append(v)\n",
    "    V3z.append(vz)\n",
    "    V3x.append(vx)\n",
    "    Z3.append(z)\n",
    "    X3.append(x)\n",
    "    \n",
    "    k1vx =h*acexx(vx,vz,t)\n",
    "    k2vx =h*acexx(vx+0.5*h,vz+0.5*h,t+0.5*k1vx)\n",
    "    k3vx =h*acexx(vx+0.5*h,vz+0.5*h,t+0.5*k2vx)\n",
    "    k4vx =h*acexx(vx+h,vz+h,t+k3vx)\n",
    "    vx +=(1/6)*(k1vx+2*k2vx+2*k3vx+k4vx)\n",
    "      \n",
    "    k1vz =h*acezz(vz,vx,t)\n",
    "    k2vz =h*acezz(vz+0.5*h,vx+0.5*h,t+0.5*k1vz)\n",
    "    k3vz =h*acezz(vz+0.5*h,vx+0.5*h,t+0.5*k2vz)\n",
    "    k4vz =h*acezz(vz+h,vx+h,t+k3vz)\n",
    "    vz +=(1/6)*(k1vz+2*k2vz+2*k3vz+k4vz)\n",
    "    \n",
    "    z +=h*vz\n",
    "    x +=h*vx"
   ]
  },
  {
   "cell_type": "code",
   "execution_count": 30,
   "metadata": {},
   "outputs": [
    {
     "data": {
      "image/png": "[encoded data removed]",
      "text/plain": [
       "<Figure size 432x288 with 1 Axes>"
      ]
     },
     "metadata": {
      "needs_background": "light"
     },
     "output_type": "display_data"
    }
   ],
   "source": [
    "plot (X3,Z3, label='efecto Magnus Wy')\n",
    "plot (X2,Z2, label='Con resistencia')\n",
    "plot (X,Z,label='sin resistencia')\n",
    "legend()\n",
    "xlabel(\"x[m]\")\n",
    "ylabel(\"z[m]\")\n",
    "xlim(0,20)\n",
    "ylim(0,3)\n",
    "grid()\n",
    "show()"
   ]
  },
  {
   "cell_type": "code",
   "execution_count": 26,
   "metadata": {},
   "outputs": [],
   "source": [
    "the=(2.2*pi)/180 #ángulo inicial\n",
    "V0=40 #m/s       #magnitud de la velocidad inicial\n",
    "vx=-V0*cos(the)  #velocidad inicial en x\n",
    "vz=V0*sin(the)   #velocidad inicial en z\n",
    "z=1.8 #m         #altura inicial en z\n",
    "x=18  #m         # distancia inicial en x\n",
    "\n",
    "V4=[]\n",
    "V4z=[]\n",
    "V4x=[]\n",
    "Z4=[]\n",
    "X4=[]\n",
    "\n",
    "for t in tpoints:\n",
    "    v =sqrt(vx*vx+vz*vz)\n",
    "    V4.append(v)\n",
    "    V4z.append(vz)\n",
    "    V4x.append(vx)\n",
    "    Z4.append(z)\n",
    "    X4.append(x)\n",
    "    \n",
    "    k1vx =h*Acexx(vx,vz,t)\n",
    "    k2vx =h*Acexx(vx+0.5*h,vz+0.5*h,t+0.5*k1vx)\n",
    "    k3vx =h*Acexx(vx+0.5*h,vz+0.5*h,t+0.5*k2vx)\n",
    "    k4vx =h*Acexx(vx+h,vz+h,t+k3vx)\n",
    "    vx +=(1/6)*(k1vx+2*k2vx+2*k3vx+k4vx)\n",
    "      \n",
    "    k1vz =h*Acezz(vz,vx,t)\n",
    "    k2vz =h*Acezz(vz+0.5*h,vx+0.5*h,t+0.5*k1vz)\n",
    "    k3vz =h*Acezz(vz+0.5*h,vx+0.5*h,t+0.5*k2vz)\n",
    "    k4vz =h*Acezz(vz+h,vx+h,t+k3vz)\n",
    "    vz +=(1/6)*(k1vz+2*k2vz+2*k3vz+k4vz)\n",
    "    \n",
    "    z +=h*vz\n",
    "    x +=h*vx"
   ]
  },
  {
   "cell_type": "code",
   "execution_count": 31,
   "metadata": {},
   "outputs": [
    {
     "data": {
      "image/png": "[encoded data removed]",
      "text/plain": [
       "<Figure size 432x288 with 1 Axes>"
      ]
     },
     "metadata": {
      "needs_background": "light"
     },
     "output_type": "display_data"
    }
   ],
   "source": [
    "plot (X4,Z4, label='efecto Magnus -Wy')\n",
    "plot (X2,Z2, label='Con resistencia')\n",
    "plot (X,Z,label='sin resistencia')\n",
    "legend()\n",
    "xlabel(\"x[m]\")\n",
    "ylabel(\"z[m]\")\n",
    "xlim(0,20)\n",
    "ylim(0,3)\n",
    "grid()\n",
    "show()"
   ]
  },
  {
   "cell_type": "markdown",
   "metadata": {},
   "source": [
    "**Por otra parte, se observó que teniendo en cuenta el efecto Magnus la trayectoria deja de ser parabólica y ademas la bola alcanza una altura mayor si la direccion de la velocida angular está en dirección Y positiva, sin embargo si la dirección de la velocida es contraria, el alcanze de la pelota tanto horizontal como vertical se ve reducido considerablemtente, esto es lo esperado teniendo en cuenta que el producto cruz aumenta o diminuye el valor de la aceleracion en la dirreción correspondiente dependiendo de la dirección de la rotación**"
   ]
  },
  {
   "cell_type": "code",
   "execution_count": null,
   "metadata": {},
   "outputs": [],
   "source": []
  }
 ],
 "metadata": {
  "kernelspec": {
   "display_name": "Python 3",
   "language": "python",
   "name": "python3"
  },
  "language_info": {
   "codemirror_mode": {
    "name": "ipython",
    "version": 3
   },
   "file_extension": ".py",
   "mimetype": "text/x-python",
   "name": "python",
   "nbconvert_exporter": "python",
   "pygments_lexer": "ipython3",
   "version": "3.5.2"
  }
 },
 "nbformat": 4,
 "nbformat_minor": 2
}
